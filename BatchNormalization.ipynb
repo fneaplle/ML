{
  "nbformat": 4,
  "nbformat_minor": 0,
  "metadata": {
    "colab": {
      "name": "BatchNormalization.ipynb",
      "provenance": [],
      "collapsed_sections": [],
      "authorship_tag": "ABX9TyO2YZuOVts00xgs1eghs8wI",
      "include_colab_link": true
    },
    "kernelspec": {
      "name": "python3",
      "display_name": "Python 3"
    }
  },
  "cells": [
    {
      "cell_type": "markdown",
      "metadata": {
        "id": "view-in-github",
        "colab_type": "text"
      },
      "source": [
        "<a href=\"https://colab.research.google.com/github/fneaplle/ML/blob/main/BatchNormalization.ipynb\" target=\"_parent\"><img src=\"https://colab.research.google.com/assets/colab-badge.svg\" alt=\"Open In Colab\"/></a>"
      ]
    },
    {
      "cell_type": "code",
      "metadata": {
        "id": "ZyLcZ70P4ufG"
      },
      "source": [
        "import tensorflow as tf\r\n",
        "import numpy as np"
      ],
      "execution_count": 55,
      "outputs": []
    },
    {
      "cell_type": "code",
      "metadata": {
        "id": "dwIGty6F41qK"
      },
      "source": [
        "class ComputeSum(tf.keras.layers.Layer):\r\n",
        "  def __init__(self, input_dim):\r\n",
        "    super().__init__()\r\n",
        "    self.total=tf.Variable(initial_value=tf.zeros((input_dim,)), trainable=False)\r\n",
        "\r\n",
        "  def call(self, inp):\r\n",
        "    self.total.assign_add(tf.reduce_sum(inp, axis=0))\r\n",
        "    return self.total"
      ],
      "execution_count": 2,
      "outputs": []
    },
    {
      "cell_type": "code",
      "metadata": {
        "colab": {
          "base_uri": "https://localhost:8080/"
        },
        "id": "QQMAorUj5VvD",
        "outputId": "27d398c3-e099-4d82-97b3-248986d48548"
      },
      "source": [
        "x = tf.ones((2,2))\r\n",
        "my_sum=ComputeSum(2)\r\n",
        "y=my_sum(x)\r\n",
        "print(y.numpy())"
      ],
      "execution_count": 3,
      "outputs": [
        {
          "output_type": "stream",
          "text": [
            "[2. 2.]\n"
          ],
          "name": "stdout"
        }
      ]
    },
    {
      "cell_type": "code",
      "metadata": {
        "colab": {
          "base_uri": "https://localhost:8080/"
        },
        "id": "dj7Msg-L5eBC",
        "outputId": "52c68873-b085-4b08-d3cc-d0952958850e"
      },
      "source": [
        "#tf.reduce_sum(x, axis=0)\r\n",
        "tf.Variable(initial_value=tf.zeros((2,)), trainable=False)"
      ],
      "execution_count": 7,
      "outputs": [
        {
          "output_type": "execute_result",
          "data": {
            "text/plain": [
              "<tf.Variable 'Variable:0' shape=(2,) dtype=float32, numpy=array([0., 0.], dtype=float32)>"
            ]
          },
          "metadata": {
            "tags": []
          },
          "execution_count": 7
        }
      ]
    },
    {
      "cell_type": "code",
      "metadata": {
        "colab": {
          "base_uri": "https://localhost:8080/"
        },
        "id": "shbblxuJ6Rej",
        "outputId": "17799b93-e92a-4b47-d699-ce980fc481c1"
      },
      "source": [
        "class Linear(tf.keras.layers.Layer):\r\n",
        "    def __init__(self, units=32, input_dim=32):\r\n",
        "        super(Linear, self).__init__()\r\n",
        "\r\n",
        "        self.w=tf.Variable([3], dtype=tf.float32)\r\n",
        "        self.b = self.add_weight(shape=(), initializer=\"zeros\", trainable=True)\r\n",
        "\r\n",
        "    def call(self, inputs):\r\n",
        "      return inputs * self.w + self.b\r\n",
        "\r\n",
        "\r\n",
        "x = tf.Variable(4.)\r\n",
        "linear_layer = Linear(4, 2)\r\n",
        "y = linear_layer(x)\r\n",
        "print(y)"
      ],
      "execution_count": 29,
      "outputs": [
        {
          "output_type": "stream",
          "text": [
            "tf.Tensor([12.], shape=(1,), dtype=float32)\n"
          ],
          "name": "stdout"
        }
      ]
    },
    {
      "cell_type": "code",
      "metadata": {
        "id": "TEvBcx1j_KzS"
      },
      "source": [
        "class BatchNorm(tf.keras.layers.Layer):\r\n",
        "  def __init__(self):\r\n",
        "    super().__init__()\r\n",
        "\r\n",
        "  def build(self, input_shape):\r\n",
        "    self.gamma=self.add_weight(shape=(),\r\n",
        "                               initializer='random_normal',\r\n",
        "                               trainable=True,\r\n",
        "                               name='gamma')\r\n",
        "    \r\n",
        "    self.beta=self.add_weight(shape=(),\r\n",
        "                               initializer='random_normal',\r\n",
        "                               trainable=True,\r\n",
        "                              name='beta')\r\n",
        "    \r\n",
        "  def call(self, inp):\r\n",
        "    mean=tf.reduce_mean(inp, axis=0)\r\n",
        "    std=tf.math.reduce_std(inp, axis=0)\r\n",
        "\r\n",
        "    inp=(inp-mean)/std\r\n",
        "    result=self.gamma*inp + self.beta\r\n",
        "\r\n",
        "    return result"
      ],
      "execution_count": 63,
      "outputs": []
    },
    {
      "cell_type": "code",
      "metadata": {
        "id": "2iLxspRGFE9o"
      },
      "source": [
        "class mlp(tf.keras.Model):\r\n",
        "  def __init__(self):\r\n",
        "    super().__init__()\r\n",
        "\r\n",
        "    #self.bn=BatchNorm()\r\n",
        "    self.d1=tf.keras.layers.Dense(32)\r\n",
        "\r\n",
        "    self.fd=tf.keras.layers.Dense(1)\r\n",
        "\r\n",
        "  def call(self, inp):\r\n",
        "    #x=self.bn(inp)\r\n",
        "    x=self.d1(inp)\r\n",
        "    result=self.fd(x)\r\n",
        "\r\n",
        "    return x\r\n",
        "\r\n",
        "model=mlp()"
      ],
      "execution_count": 73,
      "outputs": []
    },
    {
      "cell_type": "code",
      "metadata": {
        "id": "WsGc-wTAHeGf"
      },
      "source": [
        "model.compile(optimizer='rmsprop',\r\n",
        "              loss=tf.keras.losses.binary_crossentropy)"
      ],
      "execution_count": 74,
      "outputs": []
    },
    {
      "cell_type": "code",
      "metadata": {
        "id": "xVyvMCgsHpuX"
      },
      "source": [
        "X=tf.random.normal((300, 10))\r\n",
        "y=np.random.randint(2, size=300)[:,np.newaxis]"
      ],
      "execution_count": 60,
      "outputs": []
    },
    {
      "cell_type": "code",
      "metadata": {
        "colab": {
          "base_uri": "https://localhost:8080/"
        },
        "id": "4xc0cdclIz_v",
        "outputId": "7e00874d-466a-47ae-af79-9ee3a1f53a05"
      },
      "source": [
        "model.trainable_variables"
      ],
      "execution_count": 75,
      "outputs": [
        {
          "output_type": "execute_result",
          "data": {
            "text/plain": [
              "[]"
            ]
          },
          "metadata": {
            "tags": []
          },
          "execution_count": 75
        }
      ]
    },
    {
      "cell_type": "code",
      "metadata": {
        "colab": {
          "base_uri": "https://localhost:8080/"
        },
        "id": "AJA1qYMjITtv",
        "outputId": "377c4dfa-06ca-4165-d0aa-13242524690c"
      },
      "source": [
        "model.fit(X,y,batch_size=30,epochs=10)"
      ],
      "execution_count": 76,
      "outputs": [
        {
          "output_type": "stream",
          "text": [
            "Epoch 1/10\n",
            "WARNING:tensorflow:Gradients do not exist for variables ['mlp_3/dense_7/kernel:0', 'mlp_3/dense_7/bias:0'] when minimizing the loss.\n",
            "WARNING:tensorflow:Gradients do not exist for variables ['mlp_3/dense_7/kernel:0', 'mlp_3/dense_7/bias:0'] when minimizing the loss.\n",
            "10/10 [==============================] - 0s 1ms/step - loss: 4.9326\n",
            "Epoch 2/10\n",
            "10/10 [==============================] - 0s 1ms/step - loss: 4.7248\n",
            "Epoch 3/10\n",
            "10/10 [==============================] - 0s 1ms/step - loss: 4.4986\n",
            "Epoch 4/10\n",
            "10/10 [==============================] - 0s 1ms/step - loss: 4.6714\n",
            "Epoch 5/10\n",
            "10/10 [==============================] - 0s 1ms/step - loss: 4.2308\n",
            "Epoch 6/10\n",
            "10/10 [==============================] - 0s 1ms/step - loss: 4.3137\n",
            "Epoch 7/10\n",
            "10/10 [==============================] - 0s 1ms/step - loss: 4.1933\n",
            "Epoch 8/10\n",
            "10/10 [==============================] - 0s 1ms/step - loss: 4.2127\n",
            "Epoch 9/10\n",
            "10/10 [==============================] - 0s 1ms/step - loss: 4.5061\n",
            "Epoch 10/10\n",
            "10/10 [==============================] - 0s 2ms/step - loss: 4.6983\n"
          ],
          "name": "stdout"
        },
        {
          "output_type": "execute_result",
          "data": {
            "text/plain": [
              "<tensorflow.python.keras.callbacks.History at 0x7f099a467208>"
            ]
          },
          "metadata": {
            "tags": []
          },
          "execution_count": 76
        }
      ]
    }
  ]
}