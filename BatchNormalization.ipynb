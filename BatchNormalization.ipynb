{
  "nbformat": 4,
  "nbformat_minor": 0,
  "metadata": {
    "colab": {
      "name": "BatchNormalization.ipynb",
      "provenance": [],
      "collapsed_sections": [],
      "authorship_tag": "ABX9TyO9/0Gak5kCQ/K9rlzyDY2I",
      "include_colab_link": true
    },
    "kernelspec": {
      "name": "python3",
      "display_name": "Python 3"
    }
  },
  "cells": [
    {
      "cell_type": "markdown",
      "metadata": {
        "id": "view-in-github",
        "colab_type": "text"
      },
      "source": [
        "<a href=\"https://colab.research.google.com/github/fneaplle/ML/blob/main/BatchNormalization.ipynb\" target=\"_parent\"><img src=\"https://colab.research.google.com/assets/colab-badge.svg\" alt=\"Open In Colab\"/></a>"
      ]
    },
    {
      "cell_type": "code",
      "metadata": {
        "id": "ZyLcZ70P4ufG"
      },
      "source": [
        "import tensorflow as tf\r\n",
        "import numpy as np"
      ],
      "execution_count": 3,
      "outputs": []
    },
    {
      "cell_type": "code",
      "metadata": {
        "id": "TEvBcx1j_KzS"
      },
      "source": [
        "class BatchBlock(tf.keras.layers.Layer):\r\n",
        "  def __init__(self):\r\n",
        "    super().__init__()\r\n",
        "\r\n",
        "  def build(self, input_shape):\r\n",
        "    dim=input_shape[-1]\r\n",
        "    self.gamma=self.add_weight(shape=(dim,), initializer='ones', trainable=True)\r\n",
        "    self.beta=self.add_weight(shape=(dim,), initializer='zeros', trainable=True)\r\n",
        "    self.var=self.add_weight(shape=(dim,), initializer='ones', trainable=False)\r\n",
        "    self.mean=self.add_weight(shape=(dim,), initializer='zeros', trainable=False)\r\n",
        "\r\n",
        "  def call(self, inp, training=False):\r\n",
        "    if training:\r\n",
        "      mean, var = tf.nn.moments(inp, axes=[i for i in range(\r\n",
        "          inp.shape.rank - 1)])\r\n",
        "      normalized = (inp - mean) / var\r\n",
        "      self.var.assign(self.var * 0.9 + var*0.1)\r\n",
        "      self.mean.assign(self.mean*0.9 + mean*0.1)\r\n",
        "    else:\r\n",
        "      normalized = (inp-self.mean)/self.var\r\n",
        "    return normalized*self.gamma+self.beta"
      ],
      "execution_count": 15,
      "outputs": []
    },
    {
      "cell_type": "code",
      "metadata": {
        "id": "2iLxspRGFE9o"
      },
      "source": [
        "class mlp(tf.keras.Model):\r\n",
        "  def __init__(self):\r\n",
        "    super().__init__()\r\n",
        "\r\n",
        "    self.bb=BatchBlock()\r\n",
        "    self.db1=tf.keras.layers.Dense(32)\r\n",
        "    self.fb=tf.keras.layers.Dense(1)\r\n",
        "\r\n",
        "  def call(self, inp):\r\n",
        "    x=self.bb(inp)\r\n",
        "    x=self.db1(inp)\r\n",
        "    result=self.fb(x)\r\n",
        "\r\n",
        "    return result\r\n",
        "\r\n",
        "model=mlp()"
      ],
      "execution_count": 16,
      "outputs": []
    },
    {
      "cell_type": "code",
      "metadata": {
        "id": "3Rfy2SSOm2QS"
      },
      "source": [
        "X=tf.random.normal((32,10,5))\r\n",
        "model(X)"
      ],
      "execution_count": null,
      "outputs": []
    },
    {
      "cell_type": "code",
      "metadata": {
        "id": "WsGc-wTAHeGf"
      },
      "source": [
        "model.compile(optimizer='rmsprop',\r\n",
        "              loss=tf.keras.losses.mean_squared_error)"
      ],
      "execution_count": 28,
      "outputs": []
    },
    {
      "cell_type": "code",
      "metadata": {
        "id": "xVyvMCgsHpuX"
      },
      "source": [
        "X=tf.random.normal((32, 10, 5))\r\n",
        "y=tf.random.normal((32,10, 1))"
      ],
      "execution_count": 29,
      "outputs": []
    },
    {
      "cell_type": "code",
      "metadata": {
        "id": "4xc0cdclIz_v"
      },
      "source": [
        "model.trainable_variables"
      ],
      "execution_count": null,
      "outputs": []
    },
    {
      "cell_type": "code",
      "metadata": {
        "colab": {
          "base_uri": "https://localhost:8080/"
        },
        "id": "AJA1qYMjITtv",
        "outputId": "78529338-b4a3-40d5-9a9a-fb54c489226d"
      },
      "source": [
        "model.fit(X,y,batch_size=30,epochs=10)"
      ],
      "execution_count": 30,
      "outputs": [
        {
          "output_type": "stream",
          "text": [
            "Epoch 1/10\n",
            "WARNING:tensorflow:Gradients do not exist for variables ['mlp_5/batch_block/Variable:0', 'mlp_5/batch_block/Variable:0'] when minimizing the loss.\n",
            "WARNING:tensorflow:Gradients do not exist for variables ['mlp_5/batch_block/Variable:0', 'mlp_5/batch_block/Variable:0'] when minimizing the loss.\n",
            "2/2 [==============================] - 1s 3ms/step - loss: 1.4060\n",
            "Epoch 2/10\n",
            "2/2 [==============================] - 0s 4ms/step - loss: 1.2780\n",
            "Epoch 3/10\n",
            "2/2 [==============================] - 0s 3ms/step - loss: 1.2207\n",
            "Epoch 4/10\n",
            "2/2 [==============================] - 0s 4ms/step - loss: 1.1575\n",
            "Epoch 5/10\n",
            "2/2 [==============================] - 0s 4ms/step - loss: 1.1350\n",
            "Epoch 6/10\n",
            "2/2 [==============================] - 0s 4ms/step - loss: 1.1132\n",
            "Epoch 7/10\n",
            "2/2 [==============================] - 0s 4ms/step - loss: 1.0911\n",
            "Epoch 8/10\n",
            "2/2 [==============================] - 0s 4ms/step - loss: 1.0653\n",
            "Epoch 9/10\n",
            "2/2 [==============================] - 0s 6ms/step - loss: 1.0290\n",
            "Epoch 10/10\n",
            "2/2 [==============================] - 0s 3ms/step - loss: 1.0298\n"
          ],
          "name": "stdout"
        },
        {
          "output_type": "execute_result",
          "data": {
            "text/plain": [
              "<tensorflow.python.keras.callbacks.History at 0x7f9c40d526a0>"
            ]
          },
          "metadata": {
            "tags": []
          },
          "execution_count": 30
        }
      ]
    }
  ]
}